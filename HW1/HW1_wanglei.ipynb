{
 "cells": [
  {
   "cell_type": "markdown",
   "metadata": {},
   "source": [
    "# HW 1: Corporate Bond Pricing (due by 9.17 Tues)"
   ]
  },
  {
   "cell_type": "markdown",
   "metadata": {},
   "source": [
    "We are going to compute the price of a corporate bond (subject to default) with Monte-Carlo simulation. Assume that \n",
    "* the default time of a company follows the exponential distribution with intensity $\\lambda=$__`def_rate`__. \n",
    "* the riskfree interest rate is $r_f=$__`rf_rate`__ and the maturity of the bond is $T=$__`mat`__. \n",
    "* in the case of default, you can recover some portion ($R=$__`recovery_rate`__) of the face value.\n",
    "* the coupon is 0%, i.e., it is a zero-coupon bond.\n",
    "* the face value of the bond is 1.0\n",
    "* use compound rate for discounting; the price of the default-free bond is $e^{-r_f T}$\n",
    "\n",
    "The Problem 1 of the [2017 ASP Midterm Exam](../files/ASP2017_Midterm.pdf) will be helpful.\n",
    "\n",
    "### Instruction to upload your HW\n",
    "* Create a repository named __`PHBS_ASP_2019`__ (and clone it to your PC)\n",
    "* Copy this file to __`PHBS_ASP_2019/HW1/HW1.ipynb`__  (Please use the same name for repository and ipynb file)\n",
    "* Add solution code.\n",
    "* Run your your code to make sure that there's no error.\n",
    "* Upload (commit and sync) your file."
   ]
  },
  {
   "cell_type": "markdown",
   "metadata": {},
   "source": [
    "### 1. First, let's create a pricing function and check the std "
   ]
  },
  {
   "cell_type": "code",
   "execution_count": 2,
   "metadata": {},
   "outputs": [],
   "source": [
    "import numpy as np"
   ]
  },
  {
   "cell_type": "code",
   "execution_count": 5,
   "metadata": {},
   "outputs": [],
   "source": [
    "def_rate = 0.1\n",
    "rf_rate = 0.03\n",
    "recovery = 0.3\n",
    "mat = 10"
   ]
  },
  {
   "cell_type": "markdown",
   "metadata": {},
   "source": []
  },
  {
   "cell_type": "code",
   "execution_count": 8,
   "metadata": {},
   "outputs": [
    {
     "data": {
      "text/plain": [
       "(9.967400398506522, 10.0)"
      ]
     },
     "execution_count": 8,
     "metadata": {},
     "output_type": "execute_result"
    }
   ],
   "source": [
    "# First generate exponential random numbers\n",
    "# Although you can generate directly using fault_time = np.random.exponential(scale=), let's use uniform random numbers.\n",
    "n_sample = 10000\n",
    "U = np.random.uniform(size=n_sample)\n",
    "default_time = -(1/def_rate)*np.log(U)\n",
    "\n",
    "# You can check if the RNs are correct by comparing the means\n",
    "(default_time.mean(), 1/def_rate)"
   ]
  },
  {
   "cell_type": "code",
   "execution_count": 3,
   "metadata": {},
   "outputs": [
    {
     "data": {
      "text/plain": [
       "[0.940939958885905, 0.0010339742397603758]"
      ]
     },
     "execution_count": 3,
     "metadata": {},
     "output_type": "execute_result"
    }
   ],
   "source": [
    "# Put your code here to price the corporate bond\n",
    "\n",
    "def corp_bond(mat=1, def_rate=0.03, rf_rate=0.04, recovery=0.3, n_sample=1e4):\n",
    "    \n",
    "    U = np.random.uniform(size=n_sample)*mat\n",
    "    default_time = -(1/def_rate)*np.log(U)\n",
    "    bond_price = np.exp(-rf_rate*default_time)*recovery\n",
    "    bond_price[default_time>1] = np.exp(-rf_rate*mat)\n",
    "    price = bond_price.mean()\n",
    "    ### <-- YOUR ANSWER HERE\n",
    "    ### <-- YOUR ANSWER HERE\n",
    "    ### <-- YOUR ANSWER HERE\n",
    "    return price\n",
    "\n",
    "# Call your function\n",
    "corp_bond(1, 0.03, 0.04, 0.3, 10000)\n",
    "\n",
    "# Find the mean and std by calling the function 100 times. \n",
    "price_list = [corp_bond(1, 0.03, 0.04, 0.3, 10000) for i in range(0,100)]\n",
    "price_list = np.array(price_list)\n",
    "[price_list.mean(),price_list.std()]\n",
    "    \n",
    "### <-- YOUR ANSWER HERE\n",
    "### <-- YOUR ANSWER HERE\n",
    "### <-- YOUR ANSWER HERE\n"
   ]
  },
  {
   "cell_type": "markdown",
   "metadata": {},
   "source": [
    "### 2. Now, let's improve the function by reducing the MC variations.\n",
    "1. Use antithetic method: If `U` is uniform random variable, so is `1-U`\n",
    "2. Also shift the RNs to match the mean, `1/def_rate`"
   ]
  },
  {
   "cell_type": "code",
   "execution_count": 5,
   "metadata": {},
   "outputs": [
    {
     "data": {
      "text/plain": [
       "(10.000000000000002, 10.0)"
      ]
     },
     "execution_count": 5,
     "metadata": {},
     "output_type": "execute_result"
    }
   ],
   "source": [
    "# For example, antithetic method mean\n",
    "n_sample = 10000\n",
    "U = np.random.uniform(size=n_sample/2)\n",
    "default_time = -(1/def_rate)*np.log(np.concatenate((U,1-U),axis=0))\n",
    "\n",
    "# Mean-matching means\n",
    "default_time += 1/def_rate-default_time.mean()\n",
    "(default_time.mean(), 1/def_rate)"
   ]
  },
  {
   "cell_type": "code",
   "execution_count": 4,
   "metadata": {},
   "outputs": [
    {
     "data": {
      "text/plain": [
       "[0.9407986701187905,\n",
       " 0.0010971025066141037,\n",
       " 0.9416057510611171,\n",
       " 0.009080424975474757,\n",
       " 0.9406345396926672,\n",
       " 0.004411775984100305]"
      ]
     },
     "execution_count": 4,
     "metadata": {},
     "output_type": "execute_result"
    }
   ],
   "source": [
    "# No include the two new features: `antithetic` and `mean_match`\n",
    "\n",
    "def corp_bond_cv(mat=1, def_rate=0.03, rf_rate=0.04, recovery=0.3, n_sample=1e4, antithetic=True, mean_match=True):\n",
    "    ### <-\n",
    "    U = np.random.uniform(size=int(n_sample/2))\n",
    "    default_time = -(1/def_rate)*np.log(U)\n",
    "    if(antithetic):\n",
    "        default_time = -(1/def_rate)*np.log(np.concatenate((U,1-U),axis=0))\n",
    "    if(mean_match):\n",
    "        default_time += 1/def_rate-default_time.mean()\n",
    "    bond_price = np.exp(-rf_rate*default_time)*recovery\n",
    "    bond_price[default_time>1] = np.exp(-rf_rate*mat)\n",
    "    price = bond_price.mean()\n",
    "\n",
    "    ### <--\n",
    "    return price\n",
    "\n",
    "# Find the mean and std by calling the function 100 times for (i) antithetic (ii) mean_match and (iii) both\n",
    "price_list1 = [corp_bond_cv(1, 0.03, 0.04, 0.3, 10000, True, False) for i in range(0,100)]\n",
    "price_list2 = [corp_bond_cv(1, 0.03, 0.04, 0.3, 10000, False, True) for i in range(0,100)]\n",
    "price_list3 = [corp_bond_cv(1, 0.03, 0.04, 0.3, 10000, True, True) for i in range(0,100)]\n",
    "price_list1 = np.array(price_list1)\n",
    "price_list2 = np.array(price_list2)\n",
    "price_list3 = np.array(price_list3)\n",
    "[price_list1.mean(),price_list1.std(),price_list2.mean(),price_list2.std(),price_list3.mean(),price_list3.std()]\n",
    "### <-- YOUR ANSWER HERE\n",
    "### <-- YOUR ANSWER HERE\n",
    "### <-- YOUR ANSWER HERE"
   ]
  },
  {
   "cell_type": "markdown",
   "metadata": {
    "collapsed": true
   },
   "source": [
    "### 3. Finally, what is the analytic value of the corporate bond? How does it compare to your MC result above?"
   ]
  },
  {
   "cell_type": "code",
   "execution_count": 10,
   "metadata": {},
   "outputs": [
    {
     "data": {
      "text/plain": [
       "0.0001460841749927333"
      ]
     },
     "execution_count": 10,
     "metadata": {},
     "output_type": "execute_result"
    }
   ],
   "source": [
    "### Put the analytic expression for the corporate bond price\n",
    "mat=1\n",
    "def_rate=0.03\n",
    "rf_rate=0.04 \n",
    "recovery=0.3\n",
    "n_sample=10000\n",
    "\n",
    "price_acv = def_rate*((-1/(def_rate+rf_rate)*np.exp(-(def_rate+rf_rate))+1/(def_rate+rf_rate))*recovery+1/def_rate*np.exp(-(def_rate+rf_rate)))\n",
    "\n",
    "price_mc = price_list.mean()\n",
    "price_diff = price_acv - price_mc\n",
    "price_diff \n",
    "### <-- YOUR ANSWER HERE\n",
    "### <-- YOUR ANSWER HERE"
   ]
  },
  {
   "cell_type": "code",
   "execution_count": 9,
   "metadata": {},
   "outputs": [
    {
     "data": {
      "text/plain": [
       "0.9410860430608977"
      ]
     },
     "execution_count": 9,
     "metadata": {},
     "output_type": "execute_result"
    }
   ],
   "source": []
  },
  {
   "cell_type": "code",
   "execution_count": null,
   "metadata": {},
   "outputs": [],
   "source": []
  }
 ],
 "metadata": {
  "anaconda-cloud": {},
  "kernelspec": {
   "display_name": "Python 3",
   "language": "python",
   "name": "python3"
  },
  "language_info": {
   "codemirror_mode": {
    "name": "ipython",
    "version": 3
   },
   "file_extension": ".py",
   "mimetype": "text/x-python",
   "name": "python",
   "nbconvert_exporter": "python",
   "pygments_lexer": "ipython3",
   "version": "3.6.5"
  }
 },
 "nbformat": 4,
 "nbformat_minor": 1
}
